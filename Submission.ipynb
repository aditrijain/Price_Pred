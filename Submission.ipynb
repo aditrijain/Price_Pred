{
  "nbformat": 4,
  "nbformat_minor": 0,
  "metadata": {
    "colab": {
      "provenance": []
    },
    "kernelspec": {
      "name": "python3",
      "display_name": "Python 3"
    },
    "language_info": {
      "name": "python"
    }
  },
  "cells": [
    {
      "cell_type": "markdown",
      "source": [
        "# Setup"
      ],
      "metadata": {
        "id": "6LieRbjrBWeg"
      }
    },
    {
      "cell_type": "code",
      "source": [
        "import pandas as pd\n",
        "import matplotlib.pyplot as plt\n",
        "import os\n",
        "import warnings\n",
        "warnings.simplefilter(action='ignore', category=FutureWarning)"
      ],
      "metadata": {
        "id": "GxBJiIPdBZG6"
      },
      "execution_count": 70,
      "outputs": []
    },
    {
      "cell_type": "code",
      "source": [
        "from sklearn.linear_model import LinearRegression\n",
        "from sklearn.ensemble import RandomForestRegressor\n",
        "import xgboost as xgb\n",
        "from sklearn.metrics import mean_squared_error\n",
        "from sklearn.preprocessing import MinMaxScaler\n",
        "from sklearn.model_selection import train_test_split\n",
        "import numpy as np"
      ],
      "metadata": {
        "id": "oNgl6OKVHTYB"
      },
      "execution_count": 71,
      "outputs": []
    },
    {
      "cell_type": "code",
      "source": [
        "data_dir='/public_dataset/train/price_data'\n",
        "files = [file for file in os.listdir(data_dir) if file.endswith('.csv')]\n",
        "print(files)\n",
        "coin_list = [os.path.splitext(file)[0] for file in files]\n",
        "print(coin_list) #List of coins to make predictions for."
      ],
      "metadata": {
        "colab": {
          "base_uri": "https://localhost:8080/"
        },
        "id": "Gwa9lhOxBsXY",
        "outputId": "2f3dd602-5941-429f-a29c-8698f1e2cee6"
      },
      "execution_count": 72,
      "outputs": [
        {
          "output_type": "stream",
          "name": "stdout",
          "text": [
            "['DAI.csv', 'CHR.csv', 'KIN.csv', 'CHAT.csv', 'DIA.csv', 'AUC.csv', 'DX.csv', 'KMD.csv', 'DMG.csv', 'CKB.csv', 'ETP.csv', 'DOTUP.csv', 'GBP.csv', 'BZRX.csv', 'ENJ.csv', 'FUEL.csv', 'CELR.csv', 'LEND.csv', 'BCN.csv', 'CGLD.csv', 'HSC.csv', 'BNT.csv', 'AGI.csv', 'SWAP.csv', 'OCEAN.csv', 'RSR.csv', 'ZEN.csv', 'SFG.csv', 'XSR.csv', 'ONL.csv', 'TFUEL.csv', 'UTK.csv', 'WXT.csv', 'MBL.csv', 'QUN.csv', 'TNT.csv', 'YFII.csv', 'YEE.csv', 'NEST.csv', 'NPXS.csv']\n",
            "['DAI', 'CHR', 'KIN', 'CHAT', 'DIA', 'AUC', 'DX', 'KMD', 'DMG', 'CKB', 'ETP', 'DOTUP', 'GBP', 'BZRX', 'ENJ', 'FUEL', 'CELR', 'LEND', 'BCN', 'CGLD', 'HSC', 'BNT', 'AGI', 'SWAP', 'OCEAN', 'RSR', 'ZEN', 'SFG', 'XSR', 'ONL', 'TFUEL', 'UTK', 'WXT', 'MBL', 'QUN', 'TNT', 'YFII', 'YEE', 'NEST', 'NPXS']\n"
          ]
        }
      ]
    },
    {
      "cell_type": "code",
      "source": [
        "data_dir='/train_price_data'   # Path to the file with train data folder which has Kevin's (<3) appended sentiment data\n",
        "test_dir='/test_price_data'    # Path to the file with test  data folder which has Kevin's (<3) appended sentiment data"
      ],
      "metadata": {
        "id": "ZL_ji_CHB_8y"
      },
      "execution_count": 91,
      "outputs": []
    },
    {
      "cell_type": "code",
      "source": [
        "len(coin_list)"
      ],
      "metadata": {
        "colab": {
          "base_uri": "https://localhost:8080/"
        },
        "id": "RZxckShRCCx3",
        "outputId": "d83ad25e-a327-4d81-a24f-47deeaf74888"
      },
      "execution_count": 74,
      "outputs": [
        {
          "output_type": "execute_result",
          "data": {
            "text/plain": [
              "40"
            ]
          },
          "metadata": {},
          "execution_count": 74
        }
      ]
    },
    {
      "cell_type": "markdown",
      "source": [
        "# Generate Dataset:"
      ],
      "metadata": {
        "id": "o96R-1IJCDYL"
      }
    },
    {
      "cell_type": "code",
      "source": [
        "#From the given dataset and sentiment data, make a pandas dataframe.\n",
        "def make_dataset(df1,df2,coin):\n",
        "  full_range = pd.date_range(start=min(df1['datetime'].min(),df2['datetime'].min()), end=max(df1['datetime'].max(),df2['datetime'].max()), freq='D')\n",
        "  full_df = pd.DataFrame(full_range, columns=['datetime'])\n",
        "  full_df = full_df.astype({col: 'float64' for col in full_df.select_dtypes(include=['float']).columns})\n",
        "  full_df['to_pred'] = full_df['datetime'].isin(df2['datetime']).astype(int)\n",
        "  full_df['train_gap'] = 1 - full_df['datetime'].isin(df1['datetime']).astype(int)\n",
        "\n",
        "  cols = list(df1.columns)\n",
        "  cols.remove('datetime')\n",
        "  temp_df = pd.concat([df1,df2], axis=0)\n",
        "  temp_df = temp_df.sort_values(by='datetime')\n",
        "  temp_df.reset_index(drop=True, inplace=True)\n",
        "  df0 = pd.merge(full_df, temp_df, on='datetime', how='outer')\n",
        "\n",
        "  window = 14\n",
        "  lagged_cols = {}\n",
        "\n",
        "  # Create lagged columns for each column in 'cols'\n",
        "  for column in cols:\n",
        "      for i in range(1, window + 1):\n",
        "          lagged_cols[f'{column}_lag_{i}'] = df0[f'{column}'].shift(i)\n",
        "\n",
        "  # Use pd.concat to add all the lagged columns at once\n",
        "  df0 = pd.concat([df0, pd.DataFrame(lagged_cols)], axis=1)\n",
        "  return df0"
      ],
      "metadata": {
        "id": "KmxY_XIkCsVJ"
      },
      "execution_count": 75,
      "outputs": []
    },
    {
      "cell_type": "code",
      "source": [],
      "metadata": {
        "id": "vK_ZjTVlDh1l"
      },
      "execution_count": 75,
      "outputs": []
    },
    {
      "cell_type": "markdown",
      "source": [
        "# Train Set"
      ],
      "metadata": {
        "id": "k8Sd4nspDj8D"
      }
    },
    {
      "cell_type": "code",
      "source": [
        "#Train an ensemble model of the dataset\n",
        "def train_set(df0, coin):\n",
        "\n",
        "  proc = df0.dropna(inplace=False)\n",
        "  train_df = proc.drop(columns=['datetime','train_gap','to_pred'])\n",
        "  cols = list(train_df.columns)\n",
        "  x_cols = [x for x in cols if 'lag' in x]\n",
        "  y_cols = [y for y in cols if not 'lag' in y]\n",
        "  X = train_df[x_cols]\n",
        "  y = train_df[y_cols]\n",
        "  X_train, X_test, y_train, y_test = train_test_split(X, y, test_size=0.2, random_state=42, shuffle=True)\n",
        "  scaler_x = MinMaxScaler().fit(X_train)\n",
        "  scaler_y = MinMaxScaler().fit(y_train)\n",
        "\n",
        "  # transform the feature columns\n",
        "  X_train = scaler_x.transform(X_train)\n",
        "  y_train = scaler_y.transform(y_train)\n",
        "\n",
        "  X_test = scaler_x.transform(X_test)\n",
        "  y_test = scaler_y.transform(y_test)\n",
        "\n",
        "  # Model 1: Linear Regression\n",
        "  model_lr = LinearRegression()\n",
        "  model_lr.fit(X_train, y_train)\n",
        "\n",
        "  # Model 2: Random Forest\n",
        "  model_rf = RandomForestRegressor(n_estimators=100, random_state=42)\n",
        "  model_rf.fit(X_train, y_train)\n",
        "\n",
        "  # Model 3: XGBoost\n",
        "  model_xgb = xgb.XGBRegressor(objective='reg:squarederror', n_estimators=100, random_state=42)\n",
        "  model_xgb.fit(X_train, y_train)\n",
        "\n",
        "  # Evaluate models and calculate weights\n",
        "  models = [model_lr, model_rf, model_xgb]\n",
        "  model_names = ['Linear Regression', 'Random Forest', 'XGBoost']\n",
        "  predictions = []\n",
        "  errors = []\n",
        "  for model in models:\n",
        "      preds = model.predict(X_test)\n",
        "      mse = mean_squared_error(y_test, preds)\n",
        "      predictions.append(preds)\n",
        "      errors.append(mse)\n",
        "\n",
        "  # Calculate weights inversely proportional to MSE\n",
        "  weights = [(1 / error) if error != 0 else 0 for error in errors]\n",
        "  weights = [weight / sum(weights) for weight in weights]  # Normalize weights\n",
        "\n",
        "  final_prediction = np.zeros_like(predictions[0])\n",
        "  for i in range(len(models)):\n",
        "    final_prediction += weights[i] * predictions[i]\n",
        "\n",
        "  ensemble_mse = mean_squared_error(y_test, final_prediction)\n",
        "  print(f\"Ensemble Mean Squared Error for {coin}: {ensemble_mse}\")\n",
        "\n",
        "  def predict(X):\n",
        "    # Check for NaN or infinity\n",
        "    if np.any(np.isnan(X)) or np.any(np.isinf(X)):\n",
        "        raise ValueError(\"Input X contains NaN or infinity values.\")\n",
        "    X = scaler_x.transform(X).astype(np.float64)\n",
        "    preds = []\n",
        "    for model in models:\n",
        "      try:\n",
        "        preds.append(model.predict(X))\n",
        "      except:\n",
        "        print(max(X))\n",
        "        print(X)\n",
        "        raise\n",
        "\n",
        "    if len(preds) == 0:\n",
        "        raise ValueError(\"No predictions were made. Check model input and configuration.\")\n",
        "    preds_array = np.array(preds)\n",
        "\n",
        "    final_prediction = np.zeros_like(preds_array[0])\n",
        "    for i in range(len(models)):\n",
        "        final_prediction += weights[i] * preds_array[i]\n",
        "\n",
        "    if final_prediction.ndim == 1:\n",
        "        final_prediction = final_prediction.reshape(-1, 1)  # Reshape if necessary\n",
        "\n",
        "    final_prediction = scaler_y.inverse_transform(final_prediction)\n",
        "    return final_prediction\n",
        "\n",
        "  return predict"
      ],
      "metadata": {
        "id": "l0ItG8QaDluI"
      },
      "execution_count": 76,
      "outputs": []
    },
    {
      "cell_type": "code",
      "source": [],
      "metadata": {
        "id": "V8ZFW3fXDusV"
      },
      "execution_count": 76,
      "outputs": []
    },
    {
      "cell_type": "markdown",
      "source": [
        "# Generate Pred"
      ],
      "metadata": {
        "id": "iQix-Pv3FGnL"
      }
    },
    {
      "cell_type": "code",
      "source": [
        "#Using the trained model, fill the gaps in the dataset.\n",
        "def fill_gaps(df0, predict, coin):\n",
        "\n",
        "  df_final = df0.copy()\n",
        "  columns_to_fill = [x for x in list(df0.columns) if not 'lag' in x]\n",
        "  columns_to_fill.remove('datetime')\n",
        "  columns_to_fill.remove('train_gap')\n",
        "  columns_to_fill.remove('to_pred')\n",
        "\n",
        "  for idx, row in df_final.iterrows():\n",
        "    # If train_gap is 0, skip to the next row\n",
        "    if row['train_gap'] == 0:\n",
        "        continue\n",
        "\n",
        "    # Step 1: Handle NaNs in columns with 'lag' in their name\n",
        "    lag_columns = [col for col in df_final.columns if '_lag_' in col]\n",
        "\n",
        "    # Fill NaN values in lag columns based on previous rows\n",
        "    for col in lag_columns:\n",
        "        if pd.isna(row[col]):\n",
        "            # Extract the base column name and the lag number\n",
        "            base_col, lag_num = col.rsplit('_lag_', 1)\n",
        "            lag_num = int(lag_num)\n",
        "\n",
        "            # Fill NaN by going back 'lag_num' rows\n",
        "            if idx - lag_num >= 0:\n",
        "                df_final.at[idx, col] = df_final.at[idx - lag_num, base_col]\n",
        "\n",
        "    # Step 2: If all lag columns are filled but non-lag columns have NaNs\n",
        "    # Check if any lag columns are still NaN\n",
        "    if not df_final.loc[idx, lag_columns].isna().any():\n",
        "        # If no lag columns have NaNs but other columns do, call predict()\n",
        "        if df_final.loc[idx].isna().any():\n",
        "            # Prepare input data for predict() by extracting lag columns\n",
        "            lag_features = df_final.loc[idx, lag_columns].values.reshape(1, -1)\n",
        "\n",
        "            # Convert to DataFrame and replace infinities with NaN\n",
        "            lag_features_df = pd.DataFrame(lag_features, columns=lag_columns)\n",
        "            lag_features_df.replace([np.inf, -np.inf], np.nan, inplace=True)\n",
        "\n",
        "            # Ensure that NaNs are handled before prediction\n",
        "            if lag_features_df.isna().any().any():\n",
        "                continue  # Skip if there are still NaNs in lag features\n",
        "\n",
        "            # Call the predict() function to get predictions\n",
        "            predicted_values = predict(lag_features_df)\n",
        "\n",
        "            # Step 3: Fill NaN values in columns that are not lag columns\n",
        "            for i, col in enumerate(columns_to_fill):\n",
        "                if pd.isna(df_final.at[idx, col]):\n",
        "                    df_final.at[idx, col] = predicted_values[0, i]\n",
        "\n",
        "  return df_final"
      ],
      "metadata": {
        "id": "XC80UZ0AFJpz"
      },
      "execution_count": 77,
      "outputs": []
    },
    {
      "cell_type": "code",
      "source": [],
      "metadata": {
        "id": "zrtLnpTQFprB"
      },
      "execution_count": 77,
      "outputs": []
    },
    {
      "cell_type": "markdown",
      "source": [
        "# Reshape"
      ],
      "metadata": {
        "id": "yqxNdfswFqnE"
      }
    },
    {
      "cell_type": "code",
      "source": [
        "#Get the dataframe to be in the format of the submission\n",
        "def reshape(df_final, df2, coin):\n",
        "  df_final['company'] = coin\n",
        "  df_new = df_final[df_final['datetime'].isin(df2['datetime'])]\n",
        "  df_new = df_final[['company', 'datetime', 'close_x']]\n",
        "  return df_new"
      ],
      "metadata": {
        "id": "DExW3ThvFs1T"
      },
      "execution_count": 78,
      "outputs": []
    },
    {
      "cell_type": "code",
      "source": [],
      "metadata": {
        "id": "uKjW4N-3HHPj"
      },
      "execution_count": 78,
      "outputs": []
    },
    {
      "cell_type": "markdown",
      "source": [
        "# The Loop"
      ],
      "metadata": {
        "id": "3Borh4YdTTfI"
      }
    },
    {
      "cell_type": "code",
      "source": [
        "#submission_df = pd.DataFrame(columns=['company', 'datetime', 'close_x'])\n",
        "df_list = []\n",
        "for coin in coin_list:\n",
        "  file1 = f'{data_dir}/{coin}.csv'\n",
        "  df1 = pd.read_csv(file1)\n",
        "  df1 = df1.astype({col: 'float64' for col in df1.select_dtypes(include=['float']).columns})\n",
        "\n",
        "  df1['datetime'] = pd.to_datetime(df1['datetime'])\n",
        "\n",
        "  file_2 = f'{test_dir}/{coin}.csv'\n",
        "  df2 = pd.read_csv(file_2)\n",
        "  df2 = df2.astype({col: 'float64' for col in df2.select_dtypes(include=['float']).columns})\n",
        "  df2['datetime'] = pd.to_datetime(df2['datetime'])\n",
        "\n",
        "  df0 = make_dataset(df1,df2,coin)\n",
        "  predict = train_set(df0, coin)\n",
        "  df_final = fill_gaps(df0, predict, coin)\n",
        "  df_new = reshape(df_final, df2, coin)\n",
        "  df_list.append(df_new)\n",
        "\n",
        "#df_list will finallly contain 40 elements, each of which is a dataframe."
      ],
      "metadata": {
        "id": "pQX6jgKeCCGv"
      },
      "execution_count": null,
      "outputs": []
    },
    {
      "cell_type": "code",
      "source": [],
      "metadata": {
        "id": "8s2lg6XjaLRz"
      },
      "execution_count": null,
      "outputs": []
    },
    {
      "cell_type": "markdown",
      "source": [
        "# Post Processing to format the data"
      ],
      "metadata": {
        "id": "zQcxdsWIaLtz"
      }
    },
    {
      "cell_type": "code",
      "source": [
        "sub_df = pd.DataFrame(columns=['company', 'datetime', 'close_x'])\n",
        "for df in df_list:\n",
        "  sub_df = pd.concat([sub_df, df], ignore_index=True)"
      ],
      "metadata": {
        "id": "wh9m_CISflce"
      },
      "execution_count": 85,
      "outputs": []
    },
    {
      "cell_type": "code",
      "source": [
        "#Load the sample format\n",
        "sam = pd.read_csv(\"/content/sample_submission.csv\")"
      ],
      "metadata": {
        "id": "zPpshcfesMKt"
      },
      "execution_count": 86,
      "outputs": []
    },
    {
      "cell_type": "code",
      "source": [
        "len(sam)"
      ],
      "metadata": {
        "colab": {
          "base_uri": "https://localhost:8080/"
        },
        "id": "9gR1tci6s61u",
        "outputId": "d1ed4405-4ee3-4975-d0b1-f145934e3a5c"
      },
      "execution_count": 87,
      "outputs": [
        {
          "output_type": "execute_result",
          "data": {
            "text/plain": [
              "6019"
            ]
          },
          "metadata": {},
          "execution_count": 87
        }
      ]
    },
    {
      "cell_type": "code",
      "source": [
        "sam"
      ],
      "metadata": {
        "colab": {
          "base_uri": "https://localhost:8080/",
          "height": 423
        },
        "id": "rSnlKl4xVith",
        "outputId": "e81a5e76-761c-4091-cfce-a5ebc8618eda"
      },
      "execution_count": 88,
      "outputs": [
        {
          "output_type": "execute_result",
          "data": {
            "text/plain": [
              "     company    datetime  close_x\n",
              "0        AGI  2018-07-28      0.1\n",
              "1        AGI  2018-07-29      0.1\n",
              "2        AGI  2018-07-30      0.1\n",
              "3        AGI  2018-07-31      0.1\n",
              "4        AGI  2018-08-01      0.1\n",
              "...      ...         ...      ...\n",
              "6014     ZEN  2020-10-08      0.1\n",
              "6015     ZEN  2020-10-09      0.1\n",
              "6016     ZEN  2020-10-10      0.1\n",
              "6017     ZEN  2020-10-11      0.1\n",
              "6018     ZEN  2020-10-12      0.1\n",
              "\n",
              "[6019 rows x 3 columns]"
            ],
            "text/html": [
              "\n",
              "  <div id=\"df-ce39e264-bc5f-467c-a5a7-5a81208be878\" class=\"colab-df-container\">\n",
              "    <div>\n",
              "<style scoped>\n",
              "    .dataframe tbody tr th:only-of-type {\n",
              "        vertical-align: middle;\n",
              "    }\n",
              "\n",
              "    .dataframe tbody tr th {\n",
              "        vertical-align: top;\n",
              "    }\n",
              "\n",
              "    .dataframe thead th {\n",
              "        text-align: right;\n",
              "    }\n",
              "</style>\n",
              "<table border=\"1\" class=\"dataframe\">\n",
              "  <thead>\n",
              "    <tr style=\"text-align: right;\">\n",
              "      <th></th>\n",
              "      <th>company</th>\n",
              "      <th>datetime</th>\n",
              "      <th>close_x</th>\n",
              "    </tr>\n",
              "  </thead>\n",
              "  <tbody>\n",
              "    <tr>\n",
              "      <th>0</th>\n",
              "      <td>AGI</td>\n",
              "      <td>2018-07-28</td>\n",
              "      <td>0.1</td>\n",
              "    </tr>\n",
              "    <tr>\n",
              "      <th>1</th>\n",
              "      <td>AGI</td>\n",
              "      <td>2018-07-29</td>\n",
              "      <td>0.1</td>\n",
              "    </tr>\n",
              "    <tr>\n",
              "      <th>2</th>\n",
              "      <td>AGI</td>\n",
              "      <td>2018-07-30</td>\n",
              "      <td>0.1</td>\n",
              "    </tr>\n",
              "    <tr>\n",
              "      <th>3</th>\n",
              "      <td>AGI</td>\n",
              "      <td>2018-07-31</td>\n",
              "      <td>0.1</td>\n",
              "    </tr>\n",
              "    <tr>\n",
              "      <th>4</th>\n",
              "      <td>AGI</td>\n",
              "      <td>2018-08-01</td>\n",
              "      <td>0.1</td>\n",
              "    </tr>\n",
              "    <tr>\n",
              "      <th>...</th>\n",
              "      <td>...</td>\n",
              "      <td>...</td>\n",
              "      <td>...</td>\n",
              "    </tr>\n",
              "    <tr>\n",
              "      <th>6014</th>\n",
              "      <td>ZEN</td>\n",
              "      <td>2020-10-08</td>\n",
              "      <td>0.1</td>\n",
              "    </tr>\n",
              "    <tr>\n",
              "      <th>6015</th>\n",
              "      <td>ZEN</td>\n",
              "      <td>2020-10-09</td>\n",
              "      <td>0.1</td>\n",
              "    </tr>\n",
              "    <tr>\n",
              "      <th>6016</th>\n",
              "      <td>ZEN</td>\n",
              "      <td>2020-10-10</td>\n",
              "      <td>0.1</td>\n",
              "    </tr>\n",
              "    <tr>\n",
              "      <th>6017</th>\n",
              "      <td>ZEN</td>\n",
              "      <td>2020-10-11</td>\n",
              "      <td>0.1</td>\n",
              "    </tr>\n",
              "    <tr>\n",
              "      <th>6018</th>\n",
              "      <td>ZEN</td>\n",
              "      <td>2020-10-12</td>\n",
              "      <td>0.1</td>\n",
              "    </tr>\n",
              "  </tbody>\n",
              "</table>\n",
              "<p>6019 rows × 3 columns</p>\n",
              "</div>\n",
              "    <div class=\"colab-df-buttons\">\n",
              "\n",
              "  <div class=\"colab-df-container\">\n",
              "    <button class=\"colab-df-convert\" onclick=\"convertToInteractive('df-ce39e264-bc5f-467c-a5a7-5a81208be878')\"\n",
              "            title=\"Convert this dataframe to an interactive table.\"\n",
              "            style=\"display:none;\">\n",
              "\n",
              "  <svg xmlns=\"http://www.w3.org/2000/svg\" height=\"24px\" viewBox=\"0 -960 960 960\">\n",
              "    <path d=\"M120-120v-720h720v720H120Zm60-500h600v-160H180v160Zm220 220h160v-160H400v160Zm0 220h160v-160H400v160ZM180-400h160v-160H180v160Zm440 0h160v-160H620v160ZM180-180h160v-160H180v160Zm440 0h160v-160H620v160Z\"/>\n",
              "  </svg>\n",
              "    </button>\n",
              "\n",
              "  <style>\n",
              "    .colab-df-container {\n",
              "      display:flex;\n",
              "      gap: 12px;\n",
              "    }\n",
              "\n",
              "    .colab-df-convert {\n",
              "      background-color: #E8F0FE;\n",
              "      border: none;\n",
              "      border-radius: 50%;\n",
              "      cursor: pointer;\n",
              "      display: none;\n",
              "      fill: #1967D2;\n",
              "      height: 32px;\n",
              "      padding: 0 0 0 0;\n",
              "      width: 32px;\n",
              "    }\n",
              "\n",
              "    .colab-df-convert:hover {\n",
              "      background-color: #E2EBFA;\n",
              "      box-shadow: 0px 1px 2px rgba(60, 64, 67, 0.3), 0px 1px 3px 1px rgba(60, 64, 67, 0.15);\n",
              "      fill: #174EA6;\n",
              "    }\n",
              "\n",
              "    .colab-df-buttons div {\n",
              "      margin-bottom: 4px;\n",
              "    }\n",
              "\n",
              "    [theme=dark] .colab-df-convert {\n",
              "      background-color: #3B4455;\n",
              "      fill: #D2E3FC;\n",
              "    }\n",
              "\n",
              "    [theme=dark] .colab-df-convert:hover {\n",
              "      background-color: #434B5C;\n",
              "      box-shadow: 0px 1px 3px 1px rgba(0, 0, 0, 0.15);\n",
              "      filter: drop-shadow(0px 1px 2px rgba(0, 0, 0, 0.3));\n",
              "      fill: #FFFFFF;\n",
              "    }\n",
              "  </style>\n",
              "\n",
              "    <script>\n",
              "      const buttonEl =\n",
              "        document.querySelector('#df-ce39e264-bc5f-467c-a5a7-5a81208be878 button.colab-df-convert');\n",
              "      buttonEl.style.display =\n",
              "        google.colab.kernel.accessAllowed ? 'block' : 'none';\n",
              "\n",
              "      async function convertToInteractive(key) {\n",
              "        const element = document.querySelector('#df-ce39e264-bc5f-467c-a5a7-5a81208be878');\n",
              "        const dataTable =\n",
              "          await google.colab.kernel.invokeFunction('convertToInteractive',\n",
              "                                                    [key], {});\n",
              "        if (!dataTable) return;\n",
              "\n",
              "        const docLinkHtml = 'Like what you see? Visit the ' +\n",
              "          '<a target=\"_blank\" href=https://colab.research.google.com/notebooks/data_table.ipynb>data table notebook</a>'\n",
              "          + ' to learn more about interactive tables.';\n",
              "        element.innerHTML = '';\n",
              "        dataTable['output_type'] = 'display_data';\n",
              "        await google.colab.output.renderOutput(dataTable, element);\n",
              "        const docLink = document.createElement('div');\n",
              "        docLink.innerHTML = docLinkHtml;\n",
              "        element.appendChild(docLink);\n",
              "      }\n",
              "    </script>\n",
              "  </div>\n",
              "\n",
              "\n",
              "<div id=\"df-2e148d69-cf2f-4b4d-96a7-5be3abfa8473\">\n",
              "  <button class=\"colab-df-quickchart\" onclick=\"quickchart('df-2e148d69-cf2f-4b4d-96a7-5be3abfa8473')\"\n",
              "            title=\"Suggest charts\"\n",
              "            style=\"display:none;\">\n",
              "\n",
              "<svg xmlns=\"http://www.w3.org/2000/svg\" height=\"24px\"viewBox=\"0 0 24 24\"\n",
              "     width=\"24px\">\n",
              "    <g>\n",
              "        <path d=\"M19 3H5c-1.1 0-2 .9-2 2v14c0 1.1.9 2 2 2h14c1.1 0 2-.9 2-2V5c0-1.1-.9-2-2-2zM9 17H7v-7h2v7zm4 0h-2V7h2v10zm4 0h-2v-4h2v4z\"/>\n",
              "    </g>\n",
              "</svg>\n",
              "  </button>\n",
              "\n",
              "<style>\n",
              "  .colab-df-quickchart {\n",
              "      --bg-color: #E8F0FE;\n",
              "      --fill-color: #1967D2;\n",
              "      --hover-bg-color: #E2EBFA;\n",
              "      --hover-fill-color: #174EA6;\n",
              "      --disabled-fill-color: #AAA;\n",
              "      --disabled-bg-color: #DDD;\n",
              "  }\n",
              "\n",
              "  [theme=dark] .colab-df-quickchart {\n",
              "      --bg-color: #3B4455;\n",
              "      --fill-color: #D2E3FC;\n",
              "      --hover-bg-color: #434B5C;\n",
              "      --hover-fill-color: #FFFFFF;\n",
              "      --disabled-bg-color: #3B4455;\n",
              "      --disabled-fill-color: #666;\n",
              "  }\n",
              "\n",
              "  .colab-df-quickchart {\n",
              "    background-color: var(--bg-color);\n",
              "    border: none;\n",
              "    border-radius: 50%;\n",
              "    cursor: pointer;\n",
              "    display: none;\n",
              "    fill: var(--fill-color);\n",
              "    height: 32px;\n",
              "    padding: 0;\n",
              "    width: 32px;\n",
              "  }\n",
              "\n",
              "  .colab-df-quickchart:hover {\n",
              "    background-color: var(--hover-bg-color);\n",
              "    box-shadow: 0 1px 2px rgba(60, 64, 67, 0.3), 0 1px 3px 1px rgba(60, 64, 67, 0.15);\n",
              "    fill: var(--button-hover-fill-color);\n",
              "  }\n",
              "\n",
              "  .colab-df-quickchart-complete:disabled,\n",
              "  .colab-df-quickchart-complete:disabled:hover {\n",
              "    background-color: var(--disabled-bg-color);\n",
              "    fill: var(--disabled-fill-color);\n",
              "    box-shadow: none;\n",
              "  }\n",
              "\n",
              "  .colab-df-spinner {\n",
              "    border: 2px solid var(--fill-color);\n",
              "    border-color: transparent;\n",
              "    border-bottom-color: var(--fill-color);\n",
              "    animation:\n",
              "      spin 1s steps(1) infinite;\n",
              "  }\n",
              "\n",
              "  @keyframes spin {\n",
              "    0% {\n",
              "      border-color: transparent;\n",
              "      border-bottom-color: var(--fill-color);\n",
              "      border-left-color: var(--fill-color);\n",
              "    }\n",
              "    20% {\n",
              "      border-color: transparent;\n",
              "      border-left-color: var(--fill-color);\n",
              "      border-top-color: var(--fill-color);\n",
              "    }\n",
              "    30% {\n",
              "      border-color: transparent;\n",
              "      border-left-color: var(--fill-color);\n",
              "      border-top-color: var(--fill-color);\n",
              "      border-right-color: var(--fill-color);\n",
              "    }\n",
              "    40% {\n",
              "      border-color: transparent;\n",
              "      border-right-color: var(--fill-color);\n",
              "      border-top-color: var(--fill-color);\n",
              "    }\n",
              "    60% {\n",
              "      border-color: transparent;\n",
              "      border-right-color: var(--fill-color);\n",
              "    }\n",
              "    80% {\n",
              "      border-color: transparent;\n",
              "      border-right-color: var(--fill-color);\n",
              "      border-bottom-color: var(--fill-color);\n",
              "    }\n",
              "    90% {\n",
              "      border-color: transparent;\n",
              "      border-bottom-color: var(--fill-color);\n",
              "    }\n",
              "  }\n",
              "</style>\n",
              "\n",
              "  <script>\n",
              "    async function quickchart(key) {\n",
              "      const quickchartButtonEl =\n",
              "        document.querySelector('#' + key + ' button');\n",
              "      quickchartButtonEl.disabled = true;  // To prevent multiple clicks.\n",
              "      quickchartButtonEl.classList.add('colab-df-spinner');\n",
              "      try {\n",
              "        const charts = await google.colab.kernel.invokeFunction(\n",
              "            'suggestCharts', [key], {});\n",
              "      } catch (error) {\n",
              "        console.error('Error during call to suggestCharts:', error);\n",
              "      }\n",
              "      quickchartButtonEl.classList.remove('colab-df-spinner');\n",
              "      quickchartButtonEl.classList.add('colab-df-quickchart-complete');\n",
              "    }\n",
              "    (() => {\n",
              "      let quickchartButtonEl =\n",
              "        document.querySelector('#df-2e148d69-cf2f-4b4d-96a7-5be3abfa8473 button');\n",
              "      quickchartButtonEl.style.display =\n",
              "        google.colab.kernel.accessAllowed ? 'block' : 'none';\n",
              "    })();\n",
              "  </script>\n",
              "</div>\n",
              "\n",
              "  <div id=\"id_0cbdd439-8e61-47d6-b287-263edb626707\">\n",
              "    <style>\n",
              "      .colab-df-generate {\n",
              "        background-color: #E8F0FE;\n",
              "        border: none;\n",
              "        border-radius: 50%;\n",
              "        cursor: pointer;\n",
              "        display: none;\n",
              "        fill: #1967D2;\n",
              "        height: 32px;\n",
              "        padding: 0 0 0 0;\n",
              "        width: 32px;\n",
              "      }\n",
              "\n",
              "      .colab-df-generate:hover {\n",
              "        background-color: #E2EBFA;\n",
              "        box-shadow: 0px 1px 2px rgba(60, 64, 67, 0.3), 0px 1px 3px 1px rgba(60, 64, 67, 0.15);\n",
              "        fill: #174EA6;\n",
              "      }\n",
              "\n",
              "      [theme=dark] .colab-df-generate {\n",
              "        background-color: #3B4455;\n",
              "        fill: #D2E3FC;\n",
              "      }\n",
              "\n",
              "      [theme=dark] .colab-df-generate:hover {\n",
              "        background-color: #434B5C;\n",
              "        box-shadow: 0px 1px 3px 1px rgba(0, 0, 0, 0.15);\n",
              "        filter: drop-shadow(0px 1px 2px rgba(0, 0, 0, 0.3));\n",
              "        fill: #FFFFFF;\n",
              "      }\n",
              "    </style>\n",
              "    <button class=\"colab-df-generate\" onclick=\"generateWithVariable('sam')\"\n",
              "            title=\"Generate code using this dataframe.\"\n",
              "            style=\"display:none;\">\n",
              "\n",
              "  <svg xmlns=\"http://www.w3.org/2000/svg\" height=\"24px\"viewBox=\"0 0 24 24\"\n",
              "       width=\"24px\">\n",
              "    <path d=\"M7,19H8.4L18.45,9,17,7.55,7,17.6ZM5,21V16.75L18.45,3.32a2,2,0,0,1,2.83,0l1.4,1.43a1.91,1.91,0,0,1,.58,1.4,1.91,1.91,0,0,1-.58,1.4L9.25,21ZM18.45,9,17,7.55Zm-12,3A5.31,5.31,0,0,0,4.9,8.1,5.31,5.31,0,0,0,1,6.5,5.31,5.31,0,0,0,4.9,4.9,5.31,5.31,0,0,0,6.5,1,5.31,5.31,0,0,0,8.1,4.9,5.31,5.31,0,0,0,12,6.5,5.46,5.46,0,0,0,6.5,12Z\"/>\n",
              "  </svg>\n",
              "    </button>\n",
              "    <script>\n",
              "      (() => {\n",
              "      const buttonEl =\n",
              "        document.querySelector('#id_0cbdd439-8e61-47d6-b287-263edb626707 button.colab-df-generate');\n",
              "      buttonEl.style.display =\n",
              "        google.colab.kernel.accessAllowed ? 'block' : 'none';\n",
              "\n",
              "      buttonEl.onclick = () => {\n",
              "        google.colab.notebook.generateWithVariable('sam');\n",
              "      }\n",
              "      })();\n",
              "    </script>\n",
              "  </div>\n",
              "\n",
              "    </div>\n",
              "  </div>\n"
            ],
            "application/vnd.google.colaboratory.intrinsic+json": {
              "type": "dataframe",
              "variable_name": "sam",
              "summary": "{\n  \"name\": \"sam\",\n  \"rows\": 6019,\n  \"fields\": [\n    {\n      \"column\": \"company\",\n      \"properties\": {\n        \"dtype\": \"category\",\n        \"num_unique_values\": 40,\n        \"samples\": [\n          \"HSC\",\n          \"ETP\",\n          \"ENJ\"\n        ],\n        \"semantic_type\": \"\",\n        \"description\": \"\"\n      }\n    },\n    {\n      \"column\": \"datetime\",\n      \"properties\": {\n        \"dtype\": \"object\",\n        \"num_unique_values\": 1149,\n        \"samples\": [\n          \"2020-04-09\",\n          \"2018-12-19\",\n          \"2019-06-14\"\n        ],\n        \"semantic_type\": \"\",\n        \"description\": \"\"\n      }\n    },\n    {\n      \"column\": \"close_x\",\n      \"properties\": {\n        \"dtype\": \"number\",\n        \"std\": 1.1339094619847498e-14,\n        \"min\": 0.1,\n        \"max\": 0.1,\n        \"num_unique_values\": 1,\n        \"samples\": [\n          0.1\n        ],\n        \"semantic_type\": \"\",\n        \"description\": \"\"\n      }\n    }\n  ]\n}"
            }
          },
          "metadata": {},
          "execution_count": 88
        }
      ]
    },
    {
      "cell_type": "code",
      "source": [
        "l = []\n",
        "for i, row in sam.iterrows():\n",
        "  filtered_df = sub_df[(sub_df['datetime'] == row['datetime']) & (sub_df['company'] == row['company'])]\n",
        "  if not filtered_df.empty:\n",
        "    # If not empty, append the first row's values to l\n",
        "    l.append(filtered_df.values[0])\n",
        "  else:\n",
        "    # If empty, handle the case (e.g., append a placeholder or skip)\n",
        "    print(f\"No matching row found in sub_df for datetime: {row['datetime']}, company: {row['company']}\")"
      ],
      "metadata": {
        "id": "NtQaXpQ-WeOu"
      },
      "execution_count": null,
      "outputs": []
    },
    {
      "cell_type": "code",
      "source": [
        "#the last column of l is the close prices:\n",
        "sam['close_x'] = [i[-1] for i in l]\n",
        "sam.to_csv(\"final_submission.csv\", index=False)"
      ],
      "metadata": {
        "id": "QZTdaKsLwIWm"
      },
      "execution_count": null,
      "outputs": []
    }
  ]
}
